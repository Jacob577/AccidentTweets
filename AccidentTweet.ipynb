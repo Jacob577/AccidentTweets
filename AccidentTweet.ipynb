{
 "cells": [
  {
   "cell_type": "code",
   "execution_count": 50,
   "metadata": {},
   "outputs": [],
   "source": [
    "import pandas as pd\n",
    "import numpy as np\n",
    "import matplotlib.pyplot as plt\n",
    "from tensorflow import keras\n",
    "from tensorflow.keras.preprocessing.text import Tokenizer\n",
    "import seaborn as sns\n",
    "import nltk\n",
    "from nltk.tokenize import RegexpTokenizer\n",
    "from nltk.stem import WordNetLemmatizer,PorterStemmer\n",
    "from nltk.corpus import stopwords\n",
    "import re\n",
    "import tensorflow as tf\n",
    "from tensorflow.keras import Model, Sequential\n",
    "from tensorflow.keras.layers import Activation, Dense,Dropout, Embedding, GlobalAveragePooling1D, LSTM\n",
    "from tensorflow.keras.layers.experimental.preprocessing import TextVectorization\n",
    "from sklearn.feature_extraction.text import TfidfVectorizer\n",
    "from sklearn.feature_extraction.text import CountVectorizer\n",
    "from sklearn.model_selection import train_test_split\n",
    "from sklearn.pipeline import Pipeline\n",
    "from sklearn.feature_extraction.text import  TfidfTransformer\n",
    "from sklearn.metrics import confusion_matrix,classification_report\n",
    "from keras.callbacks import EarlyStopping\n",
    "\n",
    "\n",
    "lemmatizer = WordNetLemmatizer()\n",
    "stemmer = PorterStemmer() \n",
    "# nltk.download()"
   ]
  },
  {
   "cell_type": "code",
   "execution_count": 51,
   "metadata": {},
   "outputs": [],
   "source": [
    "df_train = pd.read_csv(\"train.csv\")\n",
    "df_test = pd.read_csv(\"test(1).csv\")\n",
    "df_train.drop([\"keyword\",\"location\"],axis = 1, inplace=True)\n",
    "df_test.drop([\"keyword\",\"location\"],axis = 1, inplace=True)"
   ]
  },
  {
   "cell_type": "code",
   "execution_count": 53,
   "metadata": {},
   "outputs": [
    {
     "data": {
      "text/html": [
       "<div>\n",
       "<style scoped>\n",
       "    .dataframe tbody tr th:only-of-type {\n",
       "        vertical-align: middle;\n",
       "    }\n",
       "\n",
       "    .dataframe tbody tr th {\n",
       "        vertical-align: top;\n",
       "    }\n",
       "\n",
       "    .dataframe thead th {\n",
       "        text-align: right;\n",
       "    }\n",
       "</style>\n",
       "<table border=\"1\" class=\"dataframe\">\n",
       "  <thead>\n",
       "    <tr style=\"text-align: right;\">\n",
       "      <th></th>\n",
       "      <th>id</th>\n",
       "      <th>text</th>\n",
       "    </tr>\n",
       "  </thead>\n",
       "  <tbody>\n",
       "    <tr>\n",
       "      <th>0</th>\n",
       "      <td>0</td>\n",
       "      <td>Just happened a terrible car crash</td>\n",
       "    </tr>\n",
       "    <tr>\n",
       "      <th>1</th>\n",
       "      <td>2</td>\n",
       "      <td>Heard about #earthquake is different cities, s...</td>\n",
       "    </tr>\n",
       "    <tr>\n",
       "      <th>2</th>\n",
       "      <td>3</td>\n",
       "      <td>there is a forest fire at spot pond, geese are...</td>\n",
       "    </tr>\n",
       "    <tr>\n",
       "      <th>3</th>\n",
       "      <td>9</td>\n",
       "      <td>Apocalypse lighting. #Spokane #wildfires</td>\n",
       "    </tr>\n",
       "    <tr>\n",
       "      <th>4</th>\n",
       "      <td>11</td>\n",
       "      <td>Typhoon Soudelor kills 28 in China and Taiwan</td>\n",
       "    </tr>\n",
       "  </tbody>\n",
       "</table>\n",
       "</div>"
      ],
      "text/plain": [
       "   id                                               text\n",
       "0   0                 Just happened a terrible car crash\n",
       "1   2  Heard about #earthquake is different cities, s...\n",
       "2   3  there is a forest fire at spot pond, geese are...\n",
       "3   9           Apocalypse lighting. #Spokane #wildfires\n",
       "4  11      Typhoon Soudelor kills 28 in China and Taiwan"
      ]
     },
     "execution_count": 53,
     "metadata": {},
     "output_type": "execute_result"
    }
   ],
   "source": [
    "df_train.head()"
   ]
  },
  {
   "cell_type": "code",
   "execution_count": 4,
   "metadata": {},
   "outputs": [
    {
     "data": {
      "image/png": "[encoded data removed]",
      "text/plain": [
       "<Figure size 1080x360 with 2 Axes>"
      ]
     },
     "metadata": {},
     "output_type": "display_data"
    }
   ],
   "source": [
    "sns.set_style(\"whitegrid\")\n",
    "plt.figure(figsize=(15,5))\n",
    "plt.subplot(1,2,1)\n",
    "ax = sns.countplot(x='target',data=df_train,label=['Not a Disaster','Disaster'])\n",
    "ax.set_xticklabels(['Disaster','Not a Disaster'])\n",
    "plt.suptitle(\"Distribution of Target Values\")\n",
    "terms = np.array(['Disaster', 'Not a Disaster'])\n",
    "weigtage = np.array([len(df_train[df_train['target'] == 1]),len(df_train[df_train['target'] == 0])])\n",
    "plt.subplot(1, 2, 2)\n",
    "plt.pie(weigtage,labels=terms, autopct=\"%1.1f%%\")\n",
    "plt.title('target')\n",
    "plt.show()"
   ]
  },
  {
   "cell_type": "code",
   "execution_count": 5,
   "metadata": {},
   "outputs": [
    {
     "data": {
      "text/plain": [
       "count    7613.00000\n",
       "mean        0.42966\n",
       "std         0.49506\n",
       "min         0.00000\n",
       "25%         0.00000\n",
       "50%         0.00000\n",
       "75%         1.00000\n",
       "max         1.00000\n",
       "Name: target, dtype: float64"
      ]
     },
     "execution_count": 5,
     "metadata": {},
     "output_type": "execute_result"
    }
   ],
   "source": [
    "df_train[\"target\"].describe()"
   ]
  },
  {
   "cell_type": "code",
   "execution_count": 6,
   "metadata": {},
   "outputs": [
    {
     "data": {
      "image/png": "[encoded data removed]",
      "text/plain": [
       "<Figure size 864x360 with 1 Axes>"
      ]
     },
     "metadata": {},
     "output_type": "display_data"
    }
   ],
   "source": [
    "plt.figure(figsize=(12,5))\n",
    "word_len = df_train[\"text\"].map(lambda x: len(x))\n",
    "plt.hist(word_len, bins=20)\n",
    "plt.xlabel(\"Length of tweets\")\n",
    "plt.ylabel(\"Number of tweets\")\n",
    "plt.title(\"Length of tweets vs number of tweets\")\n",
    "plt.show()"
   ]
  },
  {
   "cell_type": "code",
   "execution_count": 7,
   "metadata": {},
   "outputs": [
    {
     "data": {
      "image/png": "[encoded data removed]",
      "text/plain": [
       "<Figure size 864x360 with 1 Axes>"
      ]
     },
     "metadata": {},
     "output_type": "display_data"
    }
   ],
   "source": [
    "plt.figure(figsize=(12,5))\n",
    "word_len = df_train[\"text\"].str.split().map(lambda x: len(x))\n",
    "plt.hist(word_len, bins=15)\n",
    "plt.xlabel(\"Length of tweets\")\n",
    "plt.ylabel(\"Number of tweets\")\n",
    "plt.title(\"Length of tweets vs number of tweets\")\n",
    "plt.show()"
   ]
  },
  {
   "cell_type": "code",
   "execution_count": 8,
   "metadata": {},
   "outputs": [],
   "source": [
    "# df_train_modified.groupby(\"target\").head()"
   ]
  },
  {
   "cell_type": "code",
   "execution_count": 9,
   "metadata": {},
   "outputs": [
    {
     "data": {
      "image/png": "[encoded data removed]",
      "text/plain": [
       "<Figure size 1080x720 with 2 Axes>"
      ]
     },
     "metadata": {},
     "output_type": "display_data"
    }
   ],
   "source": [
    "df_train_modified = df_train\n",
    "len_for_random = len(df_train_modified[df_train_modified[\"target\"] == 0])\n",
    "df_train_modified[\"text_len\"] = df_train_modified[\"text\"].apply(lambda x: len(x))\n",
    "\n",
    "plt.figure(figsize=(15,10))\n",
    "word_len_true = df_train_modified[\"text_len\"].loc[df_train_modified[\"target\"] == 1]\n",
    "word_len_false = df_train_modified[\"text_len\"].loc[df_train_modified[\"target\"] == 0]\n",
    "plt.title(\"Disaster vs no disaster\")\n",
    "plt.subplot(1,2,1)\n",
    "plt.hist(word_len_true, bins=15)\n",
    "plt.xlabel(\"Text lengths Disaster\")\n",
    "plt.ylabel(\"Number of text lengths\")\n",
    "plt.subplot(1,2,2)\n",
    "plt.hist(word_len_false, bins=15)\n",
    "plt.xlabel(\"Text lengths Not Disaster\")\n",
    "plt.ylabel(\"Number of text lengths\")\n",
    "\n",
    "plt.show()"
   ]
  },
  {
   "cell_type": "code",
   "execution_count": 10,
   "metadata": {},
   "outputs": [
    {
     "data": {
      "image/png": "[encoded data removed]",
      "text/plain": [
       "<Figure size 1080x504 with 1 Axes>"
      ]
     },
     "metadata": {},
     "output_type": "display_data"
    }
   ],
   "source": [
    "plt.figure(figsize = (15,7))\n",
    "sns.histplot(data=df_train_modified, x=\"text_len\", hue=\"target\")\n",
    "plt.xlabel(\"Text length\")\n",
    "plt.ylabel(\"Number of text lengths\")\n",
    "plt.show()"
   ]
  },
  {
   "cell_type": "code",
   "execution_count": 11,
   "metadata": {},
   "outputs": [
    {
     "data": {
      "image/png": "[encoded data removed]",
      "text/plain": [
       "<Figure size 1080x504 with 1 Axes>"
      ]
     },
     "metadata": {},
     "output_type": "display_data"
    }
   ],
   "source": [
    "df_train_modified[\"text_len_word\"] = df_train_modified[\"text\"].apply(lambda x: len(x.split()))\n",
    "\n",
    "plt.figure(figsize = (15,7))\n",
    "sns.histplot(data=df_train_modified, x=\"text_len_word\", hue=\"target\", bins=15)\n",
    "plt.xlabel(\"Text length\")\n",
    "plt.ylabel(\"Number of text lengths\")\n",
    "plt.show()"
   ]
  },
  {
   "cell_type": "code",
   "execution_count": 12,
   "metadata": {},
   "outputs": [],
   "source": [
    "# duplicates = df_train[df_train.duplicated(['text','target'],keep=False)]\n",
    "# df_train.drop(duplicates, inplace=True, axis = 1)"
   ]
  },
  {
   "cell_type": "code",
   "execution_count": 13,
   "metadata": {},
   "outputs": [
    {
     "data": {
      "text/html": [
       "<div>\n",
       "<style scoped>\n",
       "    .dataframe tbody tr th:only-of-type {\n",
       "        vertical-align: middle;\n",
       "    }\n",
       "\n",
       "    .dataframe tbody tr th {\n",
       "        vertical-align: top;\n",
       "    }\n",
       "\n",
       "    .dataframe thead th {\n",
       "        text-align: right;\n",
       "    }\n",
       "</style>\n",
       "<table border=\"1\" class=\"dataframe\">\n",
       "  <thead>\n",
       "    <tr style=\"text-align: right;\">\n",
       "      <th></th>\n",
       "      <th>id</th>\n",
       "      <th>text</th>\n",
       "      <th>text_len</th>\n",
       "      <th>text_len_word</th>\n",
       "    </tr>\n",
       "  </thead>\n",
       "  <tbody>\n",
       "    <tr>\n",
       "      <th>0</th>\n",
       "      <td>1</td>\n",
       "      <td>Our Deeds are the Reason of this #earthquake M...</td>\n",
       "      <td>69.0</td>\n",
       "      <td>13.0</td>\n",
       "    </tr>\n",
       "    <tr>\n",
       "      <th>1</th>\n",
       "      <td>4</td>\n",
       "      <td>Forest fire near La Ronge Sask. Canada</td>\n",
       "      <td>38.0</td>\n",
       "      <td>7.0</td>\n",
       "    </tr>\n",
       "    <tr>\n",
       "      <th>2</th>\n",
       "      <td>5</td>\n",
       "      <td>All residents asked to 'shelter in place' are ...</td>\n",
       "      <td>133.0</td>\n",
       "      <td>22.0</td>\n",
       "    </tr>\n",
       "    <tr>\n",
       "      <th>3</th>\n",
       "      <td>6</td>\n",
       "      <td>13,000 people receive #wildfires evacuation or...</td>\n",
       "      <td>65.0</td>\n",
       "      <td>8.0</td>\n",
       "    </tr>\n",
       "    <tr>\n",
       "      <th>4</th>\n",
       "      <td>7</td>\n",
       "      <td>Just got sent this photo from Ruby #Alaska as ...</td>\n",
       "      <td>88.0</td>\n",
       "      <td>16.0</td>\n",
       "    </tr>\n",
       "  </tbody>\n",
       "</table>\n",
       "</div>"
      ],
      "text/plain": [
       "   id                                               text  text_len  \\\n",
       "0   1  Our Deeds are the Reason of this #earthquake M...      69.0   \n",
       "1   4             Forest fire near La Ronge Sask. Canada      38.0   \n",
       "2   5  All residents asked to 'shelter in place' are ...     133.0   \n",
       "3   6  13,000 people receive #wildfires evacuation or...      65.0   \n",
       "4   7  Just got sent this photo from Ruby #Alaska as ...      88.0   \n",
       "\n",
       "   text_len_word  \n",
       "0           13.0  \n",
       "1            7.0  \n",
       "2           22.0  \n",
       "3            8.0  \n",
       "4           16.0  "
      ]
     },
     "execution_count": 13,
     "metadata": {},
     "output_type": "execute_result"
    }
   ],
   "source": [
    "data = pd.concat([df_train, df_test], axis=0,sort=False)\n",
    "data.drop(['target'],axis=1,inplace=True)\n",
    "data.head()"
   ]
  },
  {
   "cell_type": "code",
   "execution_count": 14,
   "metadata": {},
   "outputs": [],
   "source": [
    "#Removing URL & Special charachtares\n",
    "def preprocess(sentence):\n",
    "    sentence=str(sentence)\n",
    "    sentence = sentence.lower()\n",
    "    sentence=sentence.replace('{html}',\"\") \n",
    "    cleanr = re.compile('<.*?>')\n",
    "    cleantext = re.sub(cleanr, '', sentence)\n",
    "    rem_url=re.sub(r'http\\S+', '',cleantext)\n",
    "    rem_num = re.sub('[0-9]+', '', rem_url)\n",
    "    tokenizer = RegexpTokenizer(r'\\w+')\n",
    "    tokens = tokenizer.tokenize(rem_num)  \n",
    "    filtered_words = [w for w in tokens if len(w) > 2 if not w in stopwords.words('english')]\n",
    "    stem_words=[stemmer.stem(w) for w in filtered_words]\n",
    "    lemma_words=[lemmatizer.lemmatize(w) for w in stem_words]\n",
    "    return \" \".join(filtered_words)"
   ]
  },
  {
   "cell_type": "code",
   "execution_count": 15,
   "metadata": {},
   "outputs": [],
   "source": [
    "df_train[\"tokens\"] = df_train[\"text\"].map(lambda x: preprocess(x))\n",
    "df_test[\"tokens\"] = df_test[\"text\"].map(lambda x: preprocess(x))\n",
    "data[\"tokens\"] = data[\"text\"].map(lambda x: preprocess(x))"
   ]
  },
  {
   "cell_type": "code",
   "execution_count": 16,
   "metadata": {},
   "outputs": [
    {
     "data": {
      "text/html": [
       "<div>\n",
       "<style scoped>\n",
       "    .dataframe tbody tr th:only-of-type {\n",
       "        vertical-align: middle;\n",
       "    }\n",
       "\n",
       "    .dataframe tbody tr th {\n",
       "        vertical-align: top;\n",
       "    }\n",
       "\n",
       "    .dataframe thead th {\n",
       "        text-align: right;\n",
       "    }\n",
       "</style>\n",
       "<table border=\"1\" class=\"dataframe\">\n",
       "  <thead>\n",
       "    <tr style=\"text-align: right;\">\n",
       "      <th></th>\n",
       "      <th>id</th>\n",
       "      <th>text</th>\n",
       "      <th>tokens</th>\n",
       "    </tr>\n",
       "  </thead>\n",
       "  <tbody>\n",
       "    <tr>\n",
       "      <th>0</th>\n",
       "      <td>1</td>\n",
       "      <td>Our Deeds are the Reason of this #earthquake M...</td>\n",
       "      <td>deeds reason earthquake may allah forgive</td>\n",
       "    </tr>\n",
       "    <tr>\n",
       "      <th>1</th>\n",
       "      <td>4</td>\n",
       "      <td>Forest fire near La Ronge Sask. Canada</td>\n",
       "      <td>forest fire near ronge sask canada</td>\n",
       "    </tr>\n",
       "    <tr>\n",
       "      <th>2</th>\n",
       "      <td>5</td>\n",
       "      <td>All residents asked to 'shelter in place' are ...</td>\n",
       "      <td>residents asked shelter place notified officer...</td>\n",
       "    </tr>\n",
       "    <tr>\n",
       "      <th>3</th>\n",
       "      <td>6</td>\n",
       "      <td>13,000 people receive #wildfires evacuation or...</td>\n",
       "      <td>people receive wildfires evacuation orders cal...</td>\n",
       "    </tr>\n",
       "    <tr>\n",
       "      <th>4</th>\n",
       "      <td>7</td>\n",
       "      <td>Just got sent this photo from Ruby #Alaska as ...</td>\n",
       "      <td>got sent photo ruby alaska smoke wildfires pou...</td>\n",
       "    </tr>\n",
       "  </tbody>\n",
       "</table>\n",
       "</div>"
      ],
      "text/plain": [
       "   id                                               text  \\\n",
       "0   1  Our Deeds are the Reason of this #earthquake M...   \n",
       "1   4             Forest fire near La Ronge Sask. Canada   \n",
       "2   5  All residents asked to 'shelter in place' are ...   \n",
       "3   6  13,000 people receive #wildfires evacuation or...   \n",
       "4   7  Just got sent this photo from Ruby #Alaska as ...   \n",
       "\n",
       "                                              tokens  \n",
       "0          deeds reason earthquake may allah forgive  \n",
       "1                 forest fire near ronge sask canada  \n",
       "2  residents asked shelter place notified officer...  \n",
       "3  people receive wildfires evacuation orders cal...  \n",
       "4  got sent photo ruby alaska smoke wildfires pou...  "
      ]
     },
     "execution_count": 16,
     "metadata": {},
     "output_type": "execute_result"
    }
   ],
   "source": [
    "data.drop([\"text_len\",\"text_len_word\"], axis = 1, inplace = True)\n",
    "data.head()"
   ]
  },
  {
   "cell_type": "code",
   "execution_count": 17,
   "metadata": {},
   "outputs": [
    {
     "data": {
      "image/png": "[encoded data removed]",
      "text/plain": [
       "<Figure size 720x360 with 1 Axes>"
      ]
     },
     "metadata": {},
     "output_type": "display_data"
    }
   ],
   "source": [
    "plt.figure(figsize=(10,5))\n",
    "word_len = data['tokens'].map(lambda x: len(x))\n",
    "plt.hist(word_len)\n",
    "plt.xlabel('Number of tokens')\n",
    "plt.ylabel('Number of tweets')\n",
    "plt.title('Number of tokens v/s Number of tweets')\n",
    "plt.show()"
   ]
  },
  {
   "cell_type": "code",
   "execution_count": 18,
   "metadata": {},
   "outputs": [],
   "source": [
    "glov_vec_file = open(\"glove.twitter.27B.100d.txt\", encoding=\"utf8\")\n",
    "embeddings = {}\n",
    "for line in glov_vec_file:\n",
    "    values = line.split()\n",
    "    word = values[0]\n",
    "    embedding = np.array(values[1:])\n",
    "    embeddings[word] = embedding\n",
    "glov_vec_file.close()"
   ]
  },
  {
   "cell_type": "code",
   "execution_count": 19,
   "metadata": {},
   "outputs": [],
   "source": [
    "def embeddings_out(data,maxlen=20):\n",
    "    output = np.zeros((data.shape[0],20,100))\n",
    "    for ix in range(len(data)):\n",
    "        curr_len = min(maxlen,len(data.iloc[ix]['tokens']))\n",
    "        for jx in range(curr_len):\n",
    "            word = str(data.iloc[ix]['tokens'][jx])\n",
    "            if word in embeddings:\n",
    "                output[ix][jx] = embeddings[data.iloc[ix]['tokens'][jx]]\n",
    "    return output"
   ]
  },
  {
   "cell_type": "code",
   "execution_count": 20,
   "metadata": {},
   "outputs": [
    {
     "data": {
      "text/html": [
       "<div>\n",
       "<style scoped>\n",
       "    .dataframe tbody tr th:only-of-type {\n",
       "        vertical-align: middle;\n",
       "    }\n",
       "\n",
       "    .dataframe tbody tr th {\n",
       "        vertical-align: top;\n",
       "    }\n",
       "\n",
       "    .dataframe thead th {\n",
       "        text-align: right;\n",
       "    }\n",
       "</style>\n",
       "<table border=\"1\" class=\"dataframe\">\n",
       "  <thead>\n",
       "    <tr style=\"text-align: right;\">\n",
       "      <th></th>\n",
       "      <th>id</th>\n",
       "      <th>text</th>\n",
       "      <th>tokens</th>\n",
       "    </tr>\n",
       "  </thead>\n",
       "  <tbody>\n",
       "    <tr>\n",
       "      <th>3258</th>\n",
       "      <td>10861</td>\n",
       "      <td>EARTHQUAKE SAFETY LOS ANGELES ÛÒ SAFETY FASTE...</td>\n",
       "      <td>earthquake safety los angeles safety fasteners...</td>\n",
       "    </tr>\n",
       "    <tr>\n",
       "      <th>3259</th>\n",
       "      <td>10865</td>\n",
       "      <td>Storm in RI worse than last hurricane. My city...</td>\n",
       "      <td>storm worse last hurricane city amp others har...</td>\n",
       "    </tr>\n",
       "    <tr>\n",
       "      <th>3260</th>\n",
       "      <td>10868</td>\n",
       "      <td>Green Line derailment in Chicago http://t.co/U...</td>\n",
       "      <td>green line derailment chicago</td>\n",
       "    </tr>\n",
       "    <tr>\n",
       "      <th>3261</th>\n",
       "      <td>10874</td>\n",
       "      <td>MEG issues Hazardous Weather Outlook (HWO) htt...</td>\n",
       "      <td>meg issues hazardous weather outlook hwo</td>\n",
       "    </tr>\n",
       "    <tr>\n",
       "      <th>3262</th>\n",
       "      <td>10875</td>\n",
       "      <td>#CityofCalgary has activated its Municipal Eme...</td>\n",
       "      <td>cityofcalgary activated municipal emergency pl...</td>\n",
       "    </tr>\n",
       "  </tbody>\n",
       "</table>\n",
       "</div>"
      ],
      "text/plain": [
       "         id                                               text  \\\n",
       "3258  10861  EARTHQUAKE SAFETY LOS ANGELES ÛÒ SAFETY FASTE...   \n",
       "3259  10865  Storm in RI worse than last hurricane. My city...   \n",
       "3260  10868  Green Line derailment in Chicago http://t.co/U...   \n",
       "3261  10874  MEG issues Hazardous Weather Outlook (HWO) htt...   \n",
       "3262  10875  #CityofCalgary has activated its Municipal Eme...   \n",
       "\n",
       "                                                 tokens  \n",
       "3258  earthquake safety los angeles safety fasteners...  \n",
       "3259  storm worse last hurricane city amp others har...  \n",
       "3260                      green line derailment chicago  \n",
       "3261           meg issues hazardous weather outlook hwo  \n",
       "3262  cityofcalgary activated municipal emergency pl...  "
      ]
     },
     "execution_count": 20,
     "metadata": {},
     "output_type": "execute_result"
    }
   ],
   "source": [
    "X = embeddings_out(data)\n",
    "X.shape\n",
    "data.tail()"
   ]
  },
  {
   "cell_type": "code",
   "execution_count": 141,
   "metadata": {},
   "outputs": [
    {
     "data": {
      "text/plain": [
       "(6090, 1523, 6090, 1523)"
      ]
     },
     "execution_count": 141,
     "metadata": {},
     "output_type": "execute_result"
    }
   ],
   "source": [
    "#Creating test and train sets\n",
    "X_train = X[:int(len(df_train['target'])*0.8)]\n",
    "X_test = X[int(len(df_train['target'])*0.8):int(len(df_train['target']))]\n",
    "y_train = df_train[:int(len(df_train['target'].values)*0.8)]['target'].values\n",
    "y_test = df_train[int(len(df_train['target'].values)*0.8):]['target'].values\n",
    "len(X_train),len(X_test),len(y_train), len(y_test)\n"
   ]
  },
  {
   "cell_type": "code",
   "execution_count": null,
   "metadata": {},
   "outputs": [],
   "source": []
  },
  {
   "cell_type": "code",
   "execution_count": 203,
   "metadata": {},
   "outputs": [],
   "source": []
  },
  {
   "cell_type": "code",
   "execution_count": 247,
   "metadata": {},
   "outputs": [],
   "source": [
    "def create_model():\n",
    "    model = Sequential()\n",
    "    model.add(LSTM(64,input_shape=(X.shape[1],X.shape[2]),return_sequences=True))\n",
    "    model.add(Dropout(0.2))\n",
    "    model.add(LSTM(64,input_shape=(X.shape[1],X.shape[2]),return_sequences=True))\n",
    "    model.add(Dropout(0.2))\n",
    "    model.add(LSTM(64,input_shape=(X.shape[1],X.shape[2])))\n",
    "    model.add(Dropout(0.1))\n",
    "    model.add(Dense(64,activation='relu'))\n",
    "    model.add(Dense(64,activation='relu'))\n",
    "    model.add(Activation('softmax'))\n",
    "    model.add(Dense(1,activation='sigmoid'))\n",
    "    model.compile(optimizer='adam',loss='binary_crossentropy',metrics=['accuracy'])\n",
    "    return model"
   ]
  },
  {
   "cell_type": "code",
   "execution_count": 248,
   "metadata": {},
   "outputs": [
    {
     "name": "stdout",
     "output_type": "stream",
     "text": [
      "Model: \"sequential_14\"\n",
      "_________________________________________________________________\n",
      "Layer (type)                 Output Shape              Param #   \n",
      "=================================================================\n",
      "lstm_42 (LSTM)               (None, 20, 64)            42240     \n",
      "_________________________________________________________________\n",
      "dropout_42 (Dropout)         (None, 20, 64)            0         \n",
      "_________________________________________________________________\n",
      "lstm_43 (LSTM)               (None, 20, 64)            33024     \n",
      "_________________________________________________________________\n",
      "dropout_43 (Dropout)         (None, 20, 64)            0         \n",
      "_________________________________________________________________\n",
      "lstm_44 (LSTM)               (None, 64)                33024     \n",
      "_________________________________________________________________\n",
      "dropout_44 (Dropout)         (None, 64)                0         \n",
      "_________________________________________________________________\n",
      "dense_40 (Dense)             (None, 64)                4160      \n",
      "_________________________________________________________________\n",
      "dense_41 (Dense)             (None, 64)                4160      \n",
      "_________________________________________________________________\n",
      "activation_14 (Activation)   (None, 64)                0         \n",
      "_________________________________________________________________\n",
      "dense_42 (Dense)             (None, 1)                 65        \n",
      "=================================================================\n",
      "Total params: 116,673\n",
      "Trainable params: 116,673\n",
      "Non-trainable params: 0\n",
      "_________________________________________________________________\n"
     ]
    }
   ],
   "source": [
    "model = create_model()\n",
    "model.summary()"
   ]
  },
  {
   "cell_type": "code",
   "execution_count": 249,
   "metadata": {
    "scrolled": true
   },
   "outputs": [
    {
     "name": "stdout",
     "output_type": "stream",
     "text": [
      "Epoch 1/100\n",
      "172/172 [==============================] - 6s 21ms/step - loss: 0.6851 - accuracy: 0.5691 - val_loss: 0.6850 - val_accuracy: 0.5649\n",
      "Epoch 2/100\n",
      "172/172 [==============================] - 3s 18ms/step - loss: 0.6788 - accuracy: 0.5849 - val_loss: 0.6852 - val_accuracy: 0.5649\n",
      "Epoch 3/100\n",
      "172/172 [==============================] - 3s 18ms/step - loss: 0.6799 - accuracy: 0.5815 - val_loss: 0.6852 - val_accuracy: 0.5649\n",
      "Epoch 4/100\n",
      "172/172 [==============================] - 3s 18ms/step - loss: 0.6784 - accuracy: 0.5860 - val_loss: 0.6852 - val_accuracy: 0.5649\n",
      "Epoch 5/100\n",
      "172/172 [==============================] - 3s 18ms/step - loss: 0.6806 - accuracy: 0.5791 - val_loss: 0.6852 - val_accuracy: 0.5649\n",
      "Epoch 6/100\n",
      "172/172 [==============================] - 3s 17ms/step - loss: 0.6811 - accuracy: 0.5777 - val_loss: 0.6852 - val_accuracy: 0.5649\n",
      "Epoch 7/100\n",
      "172/172 [==============================] - 3s 17ms/step - loss: 0.6761 - accuracy: 0.5930 - val_loss: 0.6851 - val_accuracy: 0.5649\n",
      "Epoch 8/100\n",
      "172/172 [==============================] - 3s 17ms/step - loss: 0.6808 - accuracy: 0.5783 - val_loss: 0.6854 - val_accuracy: 0.5649\n",
      "Epoch 9/100\n",
      "172/172 [==============================] - 3s 17ms/step - loss: 0.6820 - accuracy: 0.5749 - val_loss: 0.6853 - val_accuracy: 0.5649\n",
      "Epoch 10/100\n",
      "172/172 [==============================] - 3s 17ms/step - loss: 0.6787 - accuracy: 0.5827 - val_loss: 0.6874 - val_accuracy: 0.5649\n",
      "Epoch 11/100\n",
      "172/172 [==============================] - 3s 17ms/step - loss: 0.6736 - accuracy: 0.5817 - val_loss: 0.6911 - val_accuracy: 0.5649\n",
      "Epoch 12/100\n",
      "172/172 [==============================] - 3s 18ms/step - loss: 0.6712 - accuracy: 0.5778 - val_loss: 0.6924 - val_accuracy: 0.5320\n",
      "Epoch 13/100\n",
      "172/172 [==============================] - 3s 17ms/step - loss: 0.6596 - accuracy: 0.6152 - val_loss: 0.6872 - val_accuracy: 0.5304\n",
      "Epoch 14/100\n",
      "172/172 [==============================] - 3s 17ms/step - loss: 0.6556 - accuracy: 0.6229 - val_loss: 0.6972 - val_accuracy: 0.5468\n",
      "Epoch 15/100\n",
      "172/172 [==============================] - 3s 17ms/step - loss: 0.6617 - accuracy: 0.5993 - val_loss: 0.7034 - val_accuracy: 0.5320\n",
      "Epoch 16/100\n",
      "172/172 [==============================] - 3s 17ms/step - loss: 0.6551 - accuracy: 0.6152 - val_loss: 0.6970 - val_accuracy: 0.5369\n",
      "Epoch 17/100\n",
      "172/172 [==============================] - 3s 17ms/step - loss: 0.6519 - accuracy: 0.6178 - val_loss: 0.7117 - val_accuracy: 0.5123\n",
      "Epoch 18/100\n",
      "172/172 [==============================] - 3s 17ms/step - loss: 0.6476 - accuracy: 0.6199 - val_loss: 0.7051 - val_accuracy: 0.5435\n",
      "Epoch 19/100\n",
      "172/172 [==============================] - 3s 17ms/step - loss: 0.6431 - accuracy: 0.6283 - val_loss: 0.7126 - val_accuracy: 0.5534\n",
      "Epoch 20/100\n",
      "172/172 [==============================] - 3s 17ms/step - loss: 0.6318 - accuracy: 0.6488 - val_loss: 0.7186 - val_accuracy: 0.5222\n",
      "Epoch 21/100\n",
      "172/172 [==============================] - 3s 17ms/step - loss: 0.6378 - accuracy: 0.6524 - val_loss: 0.7148 - val_accuracy: 0.5320\n",
      "Epoch 22/100\n",
      "172/172 [==============================] - 3s 17ms/step - loss: 0.6226 - accuracy: 0.6671 - val_loss: 0.7156 - val_accuracy: 0.5271\n",
      "Epoch 23/100\n",
      "172/172 [==============================] - 3s 18ms/step - loss: 0.6295 - accuracy: 0.6547 - val_loss: 0.7419 - val_accuracy: 0.4959\n",
      "Epoch 24/100\n",
      "172/172 [==============================] - 3s 17ms/step - loss: 0.6283 - accuracy: 0.6553 - val_loss: 0.7392 - val_accuracy: 0.5008\n",
      "Epoch 25/100\n",
      "172/172 [==============================] - 3s 18ms/step - loss: 0.6178 - accuracy: 0.6715 - val_loss: 0.7470 - val_accuracy: 0.5205\n",
      "Epoch 26/100\n",
      "172/172 [==============================] - 3s 17ms/step - loss: 0.6126 - accuracy: 0.6795 - val_loss: 0.7468 - val_accuracy: 0.5025\n",
      "Epoch 27/100\n",
      "172/172 [==============================] - 3s 18ms/step - loss: 0.6008 - accuracy: 0.6895 - val_loss: 0.7497 - val_accuracy: 0.5189\n",
      "Epoch 28/100\n",
      "172/172 [==============================] - 3s 17ms/step - loss: 0.6120 - accuracy: 0.6804 - val_loss: 0.7606 - val_accuracy: 0.5123\n",
      "Epoch 29/100\n",
      "172/172 [==============================] - 3s 17ms/step - loss: 0.5943 - accuracy: 0.7090 - val_loss: 0.7575 - val_accuracy: 0.5320\n",
      "Epoch 30/100\n",
      "172/172 [==============================] - 3s 17ms/step - loss: 0.5855 - accuracy: 0.7052 - val_loss: 0.7606 - val_accuracy: 0.5205\n",
      "Epoch 31/100\n",
      "172/172 [==============================] - 3s 17ms/step - loss: 0.5945 - accuracy: 0.6986 - val_loss: 0.7633 - val_accuracy: 0.5271\n",
      "Epoch 32/100\n",
      "172/172 [==============================] - 3s 18ms/step - loss: 0.5669 - accuracy: 0.7372 - val_loss: 0.7644 - val_accuracy: 0.5090\n",
      "Epoch 33/100\n",
      "172/172 [==============================] - 3s 17ms/step - loss: 0.5746 - accuracy: 0.7240 - val_loss: 0.7855 - val_accuracy: 0.5074\n",
      "Epoch 34/100\n",
      "172/172 [==============================] - 3s 17ms/step - loss: 0.5703 - accuracy: 0.7262 - val_loss: 0.7832 - val_accuracy: 0.5189\n",
      "Epoch 35/100\n",
      "172/172 [==============================] - 3s 17ms/step - loss: 0.5473 - accuracy: 0.7502 - val_loss: 0.7883 - val_accuracy: 0.5189\n",
      "Epoch 36/100\n",
      "172/172 [==============================] - 3s 17ms/step - loss: 0.5598 - accuracy: 0.7372 - val_loss: 0.7956 - val_accuracy: 0.5238\n",
      "Epoch 37/100\n",
      "172/172 [==============================] - 3s 18ms/step - loss: 0.5507 - accuracy: 0.7474 - val_loss: 0.7918 - val_accuracy: 0.5172\n",
      "Epoch 38/100\n",
      "172/172 [==============================] - 3s 18ms/step - loss: 0.5379 - accuracy: 0.7581 - val_loss: 0.8109 - val_accuracy: 0.5123\n",
      "Epoch 39/100\n",
      "172/172 [==============================] - 3s 17ms/step - loss: 0.5331 - accuracy: 0.7583 - val_loss: 0.8336 - val_accuracy: 0.5057\n",
      "Epoch 40/100\n",
      "172/172 [==============================] - 3s 18ms/step - loss: 0.5299 - accuracy: 0.7654 - val_loss: 0.8300 - val_accuracy: 0.5041\n",
      "Epoch 41/100\n",
      "172/172 [==============================] - 3s 19ms/step - loss: 0.5206 - accuracy: 0.7756 - val_loss: 0.8352 - val_accuracy: 0.5172\n",
      "Epoch 00041: early stopping\n"
     ]
    }
   ],
   "source": [
    "early_stop = EarlyStopping(monitor='val_loss', mode='min', verbose=1, patience=40, min_delta=0)\n",
    "\n",
    "hist = model.fit(X_train,y_train,epochs=100,batch_size=32,shuffle=True\n",
    "                 ,validation_split=0.1,callbacks=[early_stop])"
   ]
  },
  {
   "cell_type": "code",
   "execution_count": 250,
   "metadata": {},
   "outputs": [
    {
     "data": {
      "text/plain": [
       "<AxesSubplot:>"
      ]
     },
     "execution_count": 250,
     "metadata": {},
     "output_type": "execute_result"
    },
    {
     "data": {
      "image/png": "[encoded data removed]",
      "text/plain": [
       "<Figure size 432x288 with 1 Axes>"
      ]
     },
     "metadata": {},
     "output_type": "display_data"
    }
   ],
   "source": [
    "losses = pd.DataFrame(model.history.history)\n",
    "losses.plot()"
   ]
  },
  {
   "cell_type": "code",
   "execution_count": 251,
   "metadata": {},
   "outputs": [],
   "source": [
    "prediction = model.predict(X_test)"
   ]
  },
  {
   "cell_type": "code",
   "execution_count": 252,
   "metadata": {},
   "outputs": [],
   "source": [
    "from sklearn.metrics import classification_report"
   ]
  },
  {
   "cell_type": "code",
   "execution_count": 253,
   "metadata": {},
   "outputs": [],
   "source": [
    "def binaryfy(x):\n",
    "    if x < 0.5:\n",
    "        return 0\n",
    "    else:\n",
    "        return 1"
   ]
  },
  {
   "cell_type": "code",
   "execution_count": 254,
   "metadata": {},
   "outputs": [],
   "source": [
    "for i in range(len(prediction)):\n",
    "    prediction[i] = binaryfy(prediction[i])    "
   ]
  },
  {
   "cell_type": "code",
   "execution_count": 255,
   "metadata": {},
   "outputs": [
    {
     "name": "stdout",
     "output_type": "stream",
     "text": [
      "              precision    recall  f1-score   support\n",
      "\n",
      "           0       0.64      0.68      0.66       814\n",
      "           1       0.60      0.55      0.58       709\n",
      "\n",
      "    accuracy                           0.62      1523\n",
      "   macro avg       0.62      0.62      0.62      1523\n",
      "weighted avg       0.62      0.62      0.62      1523\n",
      "\n"
     ]
    }
   ],
   "source": [
    "#With patience of 10\n",
    "print(classification_report(y_test, prediction))"
   ]
  },
  {
   "cell_type": "code",
   "execution_count": null,
   "metadata": {},
   "outputs": [],
   "source": []
  },
  {
   "cell_type": "code",
   "execution_count": null,
   "metadata": {},
   "outputs": [],
   "source": []
  },
  {
   "cell_type": "code",
   "execution_count": null,
   "metadata": {},
   "outputs": [],
   "source": []
  },
  {
   "cell_type": "code",
   "execution_count": null,
   "metadata": {},
   "outputs": [],
   "source": []
  },
  {
   "cell_type": "code",
   "execution_count": null,
   "metadata": {},
   "outputs": [],
   "source": []
  },
  {
   "cell_type": "code",
   "execution_count": null,
   "metadata": {},
   "outputs": [],
   "source": []
  }
 ],
 "metadata": {
  "kernelspec": {
   "display_name": "Python 3",
   "language": "python",
   "name": "python3"
  },
  "language_info": {
   "codemirror_mode": {
    "name": "ipython",
    "version": 3
   },
   "file_extension": ".py",
   "mimetype": "text/x-python",
   "name": "python",
   "nbconvert_exporter": "python",
   "pygments_lexer": "ipython3",
   "version": "3.8.5"
  }
 },
 "nbformat": 4,
 "nbformat_minor": 2
}
